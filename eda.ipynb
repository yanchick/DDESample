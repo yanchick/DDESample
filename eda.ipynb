{
 "cells": [
  {
   "cell_type": "code",
   "execution_count": null,
   "id": "initial_id",
   "metadata": {
    "collapsed": true
   },
   "outputs": [],
   "source": [
    "import pandas as pd\n",
    "import matplotlib.pyplot as plt\n",
    "from typing import List, Dict\n",
    "\n",
    "class DataAnalyzer:\n",
    "    def __init__(self, papers: List[Dict]):\n",
    "        self.df = pd.DataFrame(papers)\n",
    "        \n",
    "    def perform_eda(self, output_dir: str = \"eda_results\"):\n",
    "        # Create output directory if it doesn't exist\n",
    "        os.makedirs(output_dir, exist_ok=True)\n",
    "        \n",
    "        # Papers per category\n",
    "        plt.figure(figsize=(12, 6))\n",
    "        self.df['categories'].explode().value_counts().plot(kind='bar')\n",
    "        plt.title('Papers per Category')\n",
    "        plt.tight_layout()\n",
    "        plt.savefig(f\"{output_dir}/papers_per_category.png\")\n",
    "        \n",
    "        # Papers per month\n",
    "        self.df['published'] = pd.to_datetime(self.df['published'])\n",
    "        plt.figure(figsize=(12, 6))\n",
    "        self.df['published'].dt.to_period('M').value_counts().sort_index().plot(kind='bar')\n",
    "        plt.title('Papers per Month')\n",
    "        plt.tight_layout()\n",
    "        plt.savefig(f\"{output_dir}/papers_per_month.png\")\n",
    "        \n",
    "        # Generate summary statistics\n",
    "        summary = {\n",
    "            'total_papers': len(self.df),\n",
    "            'unique_authors': len(set(self.df['authors'].explode())),\n",
    "            'date_range': f\"{self.df['published'].min()} to {self.df['published'].max()}\"\n",
    "        }\n",
    "        \n",
    "        return summary\n"
   ]
  },
  {
   "metadata": {},
   "cell_type": "code",
   "outputs": [],
   "execution_count": null,
   "source": "",
   "id": "689d813acbd5db5a"
  },
  {
   "metadata": {},
   "cell_type": "code",
   "outputs": [],
   "execution_count": null,
   "source": "",
   "id": "3c4f2a239293e7cf"
  },
  {
   "metadata": {},
   "cell_type": "code",
   "outputs": [],
   "execution_count": null,
   "source": "",
   "id": "66ae35e3a3f41bd6"
  }
 ],
 "metadata": {
  "kernelspec": {
   "display_name": "Python 3",
   "language": "python",
   "name": "python3"
  },
  "language_info": {
   "codemirror_mode": {
    "name": "ipython",
    "version": 2
   },
   "file_extension": ".py",
   "mimetype": "text/x-python",
   "name": "python",
   "nbconvert_exporter": "python",
   "pygments_lexer": "ipython2",
   "version": "2.7.6"
  }
 },
 "nbformat": 4,
 "nbformat_minor": 5
}
